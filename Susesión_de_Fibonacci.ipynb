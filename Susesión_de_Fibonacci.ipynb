{
  "nbformat": 4,
  "nbformat_minor": 0,
  "metadata": {
    "colab": {
      "provenance": [],
      "authorship_tag": "ABX9TyMI6f/p7w/wKjPW9JoDMF0q",
      "include_colab_link": true
    },
    "kernelspec": {
      "name": "python3",
      "display_name": "Python 3"
    },
    "language_info": {
      "name": "python"
    }
  },
  "cells": [
    {
      "cell_type": "markdown",
      "metadata": {
        "id": "view-in-github",
        "colab_type": "text"
      },
      "source": [
        "<a href=\"https://colab.research.google.com/github/Vigush/Codigo/blob/main/Susesi%C3%B3n_de_Fibonacci.ipynb\" target=\"_parent\"><img src=\"https://colab.research.google.com/assets/colab-badge.svg\" alt=\"Open In Colab\"/></a>"
      ]
    },
    {
      "cell_type": "code",
      "execution_count": null,
      "metadata": {
        "id": "o_2ZWRGQdxKh"
      },
      "outputs": [],
      "source": [
        "# Valores iniciales\n",
        "x = 0\n",
        "y = 1\n",
        "\n",
        "n = int(input(\"Ingresa la cantidad términos que deseas: \"))\n",
        "\n",
        "\"\"\"\n",
        "x es mi 1er termino\n",
        "y es mi 2do termino\n",
        "a es mi termino resultante\n",
        "\"\"\"\n",
        "\n",
        "print(x)\n",
        "print(y)\n",
        "\n",
        "contador = 0\n",
        "while(contador < (n-2)):\n",
        "  a = x + y\n",
        "\n",
        "  # rescribimos las varibles\n",
        "  x = y\n",
        "  y = a\n",
        "\n",
        "  print(a)\n",
        "\n",
        "  contador += 1    # contador = contador + 1"
      ]
    }
  ]
}