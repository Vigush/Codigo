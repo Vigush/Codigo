{
  "nbformat": 4,
  "nbformat_minor": 0,
  "metadata": {
    "colab": {
      "provenance": [],
      "authorship_tag": "ABX9TyMWAHNDY/VveCb+jdIbJ2cq",
      "include_colab_link": true
    },
    "kernelspec": {
      "name": "python3",
      "display_name": "Python 3"
    },
    "language_info": {
      "name": "python"
    }
  },
  "cells": [
    {
      "cell_type": "markdown",
      "metadata": {
        "id": "view-in-github",
        "colab_type": "text"
      },
      "source": [
        "<a href=\"https://colab.research.google.com/github/Vigush/Codigo/blob/main/Lista.ipynb\" target=\"_parent\"><img src=\"https://colab.research.google.com/assets/colab-badge.svg\" alt=\"Open In Colab\"/></a>"
      ]
    },
    {
      "cell_type": "code",
      "execution_count": null,
      "metadata": {
        "id": "y4olRyG4fCB6"
      },
      "outputs": [],
      "source": [
        "# Nombres de banda\n",
        "  # lista de sustantivos\n",
        "Sustantivos = [\"Ardilla\", \"Bicicleta\", \"Cafetera\", \"Dinosaurio\", \"Elefante\", \"Fantasma\", \"Galaxia\", \"Hielo\", \"Isla\", \"Jaula\", \"Linterna\", \"Mariposa\", \"Nube\", \"Océano\", \"Paraguas\", \"Queso\", \"Robot\", \"Sol\", \"Tijera\", \"Universo\", \"Vaca\", \"Zapato\", \"Abanico\", \"Aguacate\", \"Algodón\", \"Anillo\", \"Ascensor\", \"Ataúd\", \"Avión\", \"Azúcar\", \"Batería\", \"Biblioteca\", \"Botella\", \"Botón\", \"Brújula\", \"Buzón\", \"Cabello\", \"Calendario\", \"Calculadora\", \"Cámara\", \"Camión\", \"Canasta\", \"Caramelo\", \"Carpeta\", \"Cosa\", \"Objeto\", \"Elemento\", \"Entidad\", \"Ser\", \"Materia\", \"Energía\", \"Concepto\", \"Idea\", \"Abstracción\"]\n",
        "\n",
        "  # Lista de adjectivos\n",
        "Adjectivos = [\"Amable\", \"Bello\", \"Cariñoso\", \"Divertido\", \"Fiel\", \"Generoso\", \"Honesto\", \"Inteligente\", \"Justo\", \"Responsable\", \"Tolerante\", \"Liso\", \"Suave\", \"Bacano\", \"Chevere\", \"Jovial\", \"Malambero\", \"Mambero\", \"Parchado\", \"Querendón\", \"Bellaco\", \"Bollo\", \"Lambón\", \"Flojo\"]\n"
      ]
    },
    {
      "cell_type": "code",
      "source": [
        "import random\n",
        "Sustantivos_aleatorio = random.choice(Sustantivos)\n",
        "\n",
        "import random\n",
        "Adjectivos_aleatorio = random.choise(Adjectivos)"
      ],
      "metadata": {
        "id": "ck6Cj2Wwn6m5"
      },
      "execution_count": null,
      "outputs": []
    }
  ]
}