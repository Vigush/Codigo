{
  "nbformat": 4,
  "nbformat_minor": 0,
  "metadata": {
    "colab": {
      "provenance": [],
      "authorship_tag": "ABX9TyOy5ir0+6wSWyrJDtjjVctM",
      "include_colab_link": true
    },
    "kernelspec": {
      "name": "python3",
      "display_name": "Python 3"
    },
    "language_info": {
      "name": "python"
    }
  },
  "cells": [
    {
      "cell_type": "markdown",
      "metadata": {
        "id": "view-in-github",
        "colab_type": "text"
      },
      "source": [
        "<a href=\"https://colab.research.google.com/github/Vigush/Codigo/blob/main/Prueba.ipynb\" target=\"_parent\"><img src=\"https://colab.research.google.com/assets/colab-badge.svg\" alt=\"Open In Colab\"/></a>"
      ]
    },
    {
      "cell_type": "code",
      "source": [
        "PIB = [242, 92, 146, 245, 92, 23, 64, 482, 63, 4, 58, 442, 57, 35, 42, 45, 38, 615, 37]"
      ],
      "metadata": {
        "id": "XykqCSKbZWOP"
      },
      "execution_count": null,
      "outputs": []
    },
    {
      "cell_type": "code",
      "source": [
        "# len(PIB): Retorna la longitud (número de elementos) de la lista\n",
        "print(f\"El tamaño de la lista es: {len(PIB)}\\n\")"
      ],
      "metadata": {
        "id": "VohWMLESZkji",
        "colab": {
          "base_uri": "https://localhost:8080/"
        },
        "outputId": "4f76ca0e-c5ac-4a45-d75c-0c24e3557fc3"
      },
      "execution_count": null,
      "outputs": [
        {
          "output_type": "stream",
          "name": "stdout",
          "text": [
            "El tamaño de la lista es: 19\n",
            "\n"
          ]
        }
      ]
    },
    {
      "cell_type": "code",
      "source": [
        "# lista.append(elemento): Agrega un elemento al final de la lista.\n",
        "PIB.append(888)\n",
        "print(\"Se agrega el número 5 a la lista\")\n",
        "print(PIB, \"\\n\")"
      ],
      "metadata": {
        "id": "UyuNeNZ-aw-5",
        "colab": {
          "base_uri": "https://localhost:8080/"
        },
        "outputId": "d6cb8f9e-b9e0-41f9-988e-43ed1ef342e8"
      },
      "execution_count": null,
      "outputs": [
        {
          "output_type": "stream",
          "name": "stdout",
          "text": [
            "Se agrega el número 5 a la lista\n",
            "[242, 92, 146, 245, 92, 23, 64, 482, 63, 4, 58, 442, 57, 35, 42, 45, 38, 615, 37, 888] \n",
            "\n"
          ]
        }
      ]
    }
  ]
}